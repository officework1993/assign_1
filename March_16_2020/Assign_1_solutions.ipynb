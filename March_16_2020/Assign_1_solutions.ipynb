{
 "cells": [
  {
   "cell_type": "markdown",
   "metadata": {
    "colab_type": "text",
    "id": "_udC0f0DwqXF"
   },
   "source": [
    "---\n",
    "---\n",
    "\n",
    "The task is simply to slice the array into 3 arrays of shape **[(100,100,3),(100,100),(100,100,2),(100,100,3)]** using the most optimized method.\n",
    "\n",
    "After slicing demonstrate that the arrays can be stacked to form the orignal array.\n",
    "\n",
    "---\n",
    "---"
   ]
  },
  {
   "cell_type": "code",
   "execution_count": 4,
   "metadata": {
    "colab": {},
    "colab_type": "code",
    "id": "dlUWf4LDwe9i"
   },
   "outputs": [],
   "source": [
    "import numpy as np\n",
    "\n",
    "\n",
    "#this single array is to be sliced into the above mentioned shapes\n",
    "array_to_slice = np.random.rand(300,100,3)"
   ]
  },
  {
   "cell_type": "code",
   "execution_count": 7,
   "metadata": {
    "colab": {},
    "colab_type": "code",
    "id": "v3DBSiPrxfRK"
   },
   "outputs": [],
   "source": [
    "#sliced Arrays are all the arrays you will create\n",
    "\n",
    "#####Your Code goes here#####\n",
    "\n",
    "\n",
    "sliced_array_1 = array_to_slice[:100,:,:] #shape(100,100,3)\n",
    "\n",
    "sliced_array_2 = array_to_slice[100:200,:,:1].squeeze()#shape(100,100)\n",
    "\n",
    "sliced_array_3 = array_to_slice[100:200,:,1:]#shape(100,100,2)\n",
    "\n",
    "sliced_array_4 = array_to_slice[200:,:,:]#shape(100,100,3)"
   ]
  },
  {
   "cell_type": "code",
   "execution_count": 8,
   "metadata": {
    "colab": {
     "base_uri": "https://localhost:8080/",
     "height": 123
    },
    "colab_type": "code",
    "id": "mVl748BByZ5c",
    "outputId": "b865997d-db17-4d47-d2d6-ee433b5ff3dc"
   },
   "outputs": [
    {
     "name": "stdout",
     "output_type": "stream",
     "text": [
      "The shape of the arrays match,check - 1 completed \n",
      "\n",
      "----------------------------------------------------------------------------------------------------------------------------------------------------------------\n",
      "Check - 2 Initiated \n",
      "\n",
      "Both the arrays match :: Task completed Successfully\n"
     ]
    }
   ],
   "source": [
    "#this is just a confirming part of the code for your reference.No changes are supposed to be made here\n",
    "\n",
    "def check_results(array_to_slice,sliced_array_1,sliced_array_2,sliced_array_3,sliced_array_4):\n",
    "  intermediate_Stack = np.concatenate((sliced_array_2[:,:,np.newaxis],sliced_array_3),axis = 2)\n",
    "\n",
    "\n",
    "  out = np.concatenate((sliced_array_1,intermediate_Stack,sliced_array_4))\n",
    "\n",
    "  print(\"The shape of the arrays match,check - 1 completed \\n\" if out.shape == array_to_slice.shape else f\"the shapes don't match your shape is {out.shape}::: expected was {array_to_slice.shape}\")\n",
    "\n",
    "  print(\"--\"*80)\n",
    "\n",
    "  print(\"Check - 2 Initiated \\n\")\n",
    "  print(\"Both the arrays match :: Task completed Successfully\" if np.equal(out,array_to_slice).all() else \"The arrays don't match kindly check your code\")\n",
    "\n",
    "  return None\n",
    "\n",
    "check_results(array_to_slice,sliced_array_1,sliced_array_2,sliced_array_3,sliced_array_4)"
   ]
  },
  {
   "cell_type": "markdown",
   "metadata": {},
   "source": [
    "---\n",
    "---\n",
    "\n",
    "## Now lets work on something more real looking and cool using this concept to enhance understanding in the real world.\n",
    "\n",
    "---\n",
    "---"
   ]
  },
  {
   "cell_type": "code",
   "execution_count": 9,
   "metadata": {},
   "outputs": [],
   "source": [
    "import matplotlib.pyplot as plt\n",
    "import numpy as np\n",
    "\n",
    "plt.rcParams[\"figure.figsize\"] = 15,10"
   ]
  },
  {
   "cell_type": "code",
   "execution_count": 11,
   "metadata": {},
   "outputs": [],
   "source": [
    "########### Your code here\n",
    "\n",
    "\n",
    "arr_1 = np.load(\"image_1.npy\") # load image_1.npy here\n",
    "arr_2 = np.load(\"image_2.npy\")# load image_2.npy here\n",
    "arr_3 = np.load(\"image_3.npy\")# load image_3.npy here"
   ]
  },
  {
   "cell_type": "code",
   "execution_count": 12,
   "metadata": {},
   "outputs": [
    {
     "name": "stderr",
     "output_type": "stream",
     "text": [
      "Clipping input data to the valid range for imshow with RGB data ([0..1] for floats or [0..255] for integers).\n",
      "Clipping input data to the valid range for imshow with RGB data ([0..1] for floats or [0..255] for integers).\n",
      "Clipping input data to the valid range for imshow with RGB data ([0..1] for floats or [0..255] for integers).\n"
     ]
    },
    {
     "data": {
      "text/plain": [
       "<matplotlib.image.AxesImage at 0x7f8efeba3990>"
      ]
     },
     "execution_count": 12,
     "metadata": {},
     "output_type": "execute_result"
    },
    {
     "data": {
      "image/png": "[encoded data removed]",
      "text/plain": [
       "<Figure size 432x288 with 3 Axes>"
      ]
     },
     "metadata": {
      "needs_background": "light"
     },
     "output_type": "display_data"
    }
   ],
   "source": [
    "# Not required to be changed\n",
    "fig = plt.figure()\n",
    "ax1 = fig.add_subplot(131)\n",
    "ax2 = fig.add_subplot(132, sharey=ax1)\n",
    "ax3 = fig.add_subplot(133, sharey=ax1)\n",
    "\n",
    "\n",
    "ax1.imshow(arr_1)\n",
    "ax2.imshow(arr_2)\n",
    "ax3.imshow(arr_3)"
   ]
  },
  {
   "cell_type": "markdown",
   "metadata": {},
   "source": [
    "---\n",
    "---\n",
    "---\n",
    "\n",
    "## You have a 3 set of images each containing a single word. An image is nothing but a numpy array. \n",
    "\n",
    "**You are required to create a single image out of these arrays, such that the entire text is visualized in a single image**\n",
    "\n",
    "---\n",
    "---\n",
    "---"
   ]
  },
  {
   "cell_type": "code",
   "execution_count": 15,
   "metadata": {},
   "outputs": [
    {
     "name": "stderr",
     "output_type": "stream",
     "text": [
      "Clipping input data to the valid range for imshow with RGB data ([0..1] for floats or [0..255] for integers).\n"
     ]
    },
    {
     "data": {
      "text/plain": [
       "<matplotlib.image.AxesImage at 0x7f8efea4de90>"
      ]
     },
     "execution_count": 15,
     "metadata": {},
     "output_type": "execute_result"
    },
    {
     "data": {
      "image/png": "[encoded data removed]",
      "text/plain": [
       "<Figure size 432x288 with 1 Axes>"
      ]
     },
     "metadata": {
      "needs_background": "light"
     },
     "output_type": "display_data"
    }
   ],
   "source": [
    "# hint :: You can combine multiple arrays into single array \n",
    "\n",
    "final_image = np.concatenate((arr_1,arr_2,arr_3),axis = 1) #created from a combination of above arrays\n",
    "\n",
    "plt.imshow(final_image)"
   ]
  }
 ],
 "metadata": {
  "colab": {
   "collapsed_sections": [],
   "name": "Assign_array_slice.ipynb",
   "provenance": []
  },
  "kernelspec": {
   "display_name": "Python 3",
   "language": "python",
   "name": "python3"
  },
  "language_info": {
   "codemirror_mode": {
    "name": "ipython",
    "version": 3
   },
   "file_extension": ".py",
   "mimetype": "text/x-python",
   "name": "python",
   "nbconvert_exporter": "python",
   "pygments_lexer": "ipython3",
   "version": "3.7.4"
  }
 },
 "nbformat": 4,
 "nbformat_minor": 4
}
